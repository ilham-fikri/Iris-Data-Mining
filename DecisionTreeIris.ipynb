{
  "nbformat": 4,
  "nbformat_minor": 0,
  "metadata": {
    "colab": {
      "name": "DecisionTreeIris.ipynb",
      "provenance": [],
      "authorship_tag": "ABX9TyPUaIixWJcUq2WnMl5AOL1+",
      "include_colab_link": true
    },
    "kernelspec": {
      "name": "python3",
      "display_name": "Python 3"
    },
    "language_info": {
      "name": "python"
    }
  },
  "cells": [
    {
      "cell_type": "markdown",
      "metadata": {
        "id": "view-in-github",
        "colab_type": "text"
      },
      "source": [
        "<a href=\"https://colab.research.google.com/github/ilham-fikri/Iris-Data-Mining/blob/main/DecisionTreeIris.ipynb\" target=\"_parent\"><img src=\"https://colab.research.google.com/assets/colab-badge.svg\" alt=\"Open In Colab\"/></a>"
      ]
    },
    {
      "cell_type": "code",
      "metadata": {
        "id": "9JQLQaaMyVjW"
      },
      "source": [
        "import numpy as np\n",
        "import matplotlib.pyplot as plt\n",
        "import pandas as pd\n"
      ],
      "execution_count": 82,
      "outputs": []
    },
    {
      "cell_type": "code",
      "metadata": {
        "id": "xXSu8YMAydaR"
      },
      "source": [
        "irisDataset= pd.read_csv('datairis.csv', delimiter=';',header=0)"
      ],
      "execution_count": 90,
      "outputs": []
    },
    {
      "cell_type": "code",
      "metadata": {
        "colab": {
          "base_uri": "https://localhost:8080/",
          "height": 204
        },
        "id": "UoYMf6llzTAy",
        "outputId": "ecb935c7-3583-42ab-b569-8a8265cec1cb"
      },
      "source": [
        "irisDataset.head()"
      ],
      "execution_count": 91,
      "outputs": [
        {
          "output_type": "execute_result",
          "data": {
            "text/html": [
              "<div>\n",
              "<style scoped>\n",
              "    .dataframe tbody tr th:only-of-type {\n",
              "        vertical-align: middle;\n",
              "    }\n",
              "\n",
              "    .dataframe tbody tr th {\n",
              "        vertical-align: top;\n",
              "    }\n",
              "\n",
              "    .dataframe thead th {\n",
              "        text-align: right;\n",
              "    }\n",
              "</style>\n",
              "<table border=\"1\" class=\"dataframe\">\n",
              "  <thead>\n",
              "    <tr style=\"text-align: right;\">\n",
              "      <th></th>\n",
              "      <th>Id</th>\n",
              "      <th>SepalLengthCm</th>\n",
              "      <th>SepalWidthCm</th>\n",
              "      <th>PetalLengthCm</th>\n",
              "      <th>PetalWidthCm</th>\n",
              "      <th>Species</th>\n",
              "    </tr>\n",
              "  </thead>\n",
              "  <tbody>\n",
              "    <tr>\n",
              "      <th>0</th>\n",
              "      <td>1</td>\n",
              "      <td>5.1</td>\n",
              "      <td>3.5</td>\n",
              "      <td>1.4</td>\n",
              "      <td>0.2</td>\n",
              "      <td>setosa</td>\n",
              "    </tr>\n",
              "    <tr>\n",
              "      <th>1</th>\n",
              "      <td>2</td>\n",
              "      <td>4.9</td>\n",
              "      <td>3.0</td>\n",
              "      <td>1.4</td>\n",
              "      <td>0.2</td>\n",
              "      <td>setosa</td>\n",
              "    </tr>\n",
              "    <tr>\n",
              "      <th>2</th>\n",
              "      <td>3</td>\n",
              "      <td>4.7</td>\n",
              "      <td>3.2</td>\n",
              "      <td>1.3</td>\n",
              "      <td>0.2</td>\n",
              "      <td>setosa</td>\n",
              "    </tr>\n",
              "    <tr>\n",
              "      <th>3</th>\n",
              "      <td>4</td>\n",
              "      <td>4.6</td>\n",
              "      <td>3.1</td>\n",
              "      <td>1.5</td>\n",
              "      <td>0.2</td>\n",
              "      <td>setosa</td>\n",
              "    </tr>\n",
              "    <tr>\n",
              "      <th>4</th>\n",
              "      <td>5</td>\n",
              "      <td>5.0</td>\n",
              "      <td>3.6</td>\n",
              "      <td>1.4</td>\n",
              "      <td>0.2</td>\n",
              "      <td>setosa</td>\n",
              "    </tr>\n",
              "  </tbody>\n",
              "</table>\n",
              "</div>"
            ],
            "text/plain": [
              "   Id  SepalLengthCm  SepalWidthCm  PetalLengthCm  PetalWidthCm Species\n",
              "0   1            5.1           3.5            1.4           0.2  setosa\n",
              "1   2            4.9           3.0            1.4           0.2  setosa\n",
              "2   3            4.7           3.2            1.3           0.2  setosa\n",
              "3   4            4.6           3.1            1.5           0.2  setosa\n",
              "4   5            5.0           3.6            1.4           0.2  setosa"
            ]
          },
          "metadata": {
            "tags": []
          },
          "execution_count": 91
        }
      ]
    },
    {
      "cell_type": "code",
      "metadata": {
        "id": "6K_yLWzozuEQ"
      },
      "source": [
        "irisDataset[\"Species\"] = pd.factorize(irisDataset.Species)[0]"
      ],
      "execution_count": 92,
      "outputs": []
    },
    {
      "cell_type": "code",
      "metadata": {
        "colab": {
          "base_uri": "https://localhost:8080/"
        },
        "id": "ciV6XBJzAGxq",
        "outputId": "8229e9a8-8f9b-44ac-c6aa-22aae989159b"
      },
      "source": [
        "print(irisDataset)"
      ],
      "execution_count": 93,
      "outputs": [
        {
          "output_type": "stream",
          "text": [
            "      Id  SepalLengthCm  SepalWidthCm  PetalLengthCm  PetalWidthCm  Species\n",
            "0      1            5.1           3.5            1.4           0.2        0\n",
            "1      2            4.9           3.0            1.4           0.2        0\n",
            "2      3            4.7           3.2            1.3           0.2        0\n",
            "3      4            4.6           3.1            1.5           0.2        0\n",
            "4      5            5.0           3.6            1.4           0.2        0\n",
            "..   ...            ...           ...            ...           ...      ...\n",
            "145  146            6.7           3.0            5.2           2.3        2\n",
            "146  147            6.3           2.5            5.0           1.9        2\n",
            "147  148            6.5           3.0            5.2           2.0        2\n",
            "148  149            6.2           3.4            5.4           2.3        2\n",
            "149  150            5.9           3.0            5.1           1.8        2\n",
            "\n",
            "[150 rows x 6 columns]\n"
          ],
          "name": "stdout"
        }
      ]
    },
    {
      "cell_type": "code",
      "metadata": {
        "id": "N2PB_yJL_HO5"
      },
      "source": [
        "irisDataset = irisDataset.drop(labels=\"Id\",axis=1)"
      ],
      "execution_count": 94,
      "outputs": []
    },
    {
      "cell_type": "code",
      "metadata": {
        "colab": {
          "base_uri": "https://localhost:8080/"
        },
        "id": "fFC7-clBAM8y",
        "outputId": "f4107c07-48af-48f7-84a6-2aa2e0b5b14c"
      },
      "source": [
        "print(irisDataset)"
      ],
      "execution_count": 95,
      "outputs": [
        {
          "output_type": "stream",
          "text": [
            "     SepalLengthCm  SepalWidthCm  PetalLengthCm  PetalWidthCm  Species\n",
            "0              5.1           3.5            1.4           0.2        0\n",
            "1              4.9           3.0            1.4           0.2        0\n",
            "2              4.7           3.2            1.3           0.2        0\n",
            "3              4.6           3.1            1.5           0.2        0\n",
            "4              5.0           3.6            1.4           0.2        0\n",
            "..             ...           ...            ...           ...      ...\n",
            "145            6.7           3.0            5.2           2.3        2\n",
            "146            6.3           2.5            5.0           1.9        2\n",
            "147            6.5           3.0            5.2           2.0        2\n",
            "148            6.2           3.4            5.4           2.3        2\n",
            "149            5.9           3.0            5.1           1.8        2\n",
            "\n",
            "[150 rows x 5 columns]\n"
          ],
          "name": "stdout"
        }
      ]
    },
    {
      "cell_type": "code",
      "metadata": {
        "id": "8bEYW9gZAfB3"
      },
      "source": [
        "irisDataset = irisDataset.to_numpy()"
      ],
      "execution_count": 96,
      "outputs": []
    },
    {
      "cell_type": "code",
      "metadata": {
        "id": "xzktTmiEApE3"
      },
      "source": [
        "DataTraining = np.concatenate((irisDataset[0:40,:], irisDataset[50:90,:]),\n",
        "                              axis= 0)\n",
        "DataTesting = np.concatenate((irisDataset[40:50,:], irisDataset[90:100,:]),\n",
        "                              axis= 0)"
      ],
      "execution_count": 97,
      "outputs": []
    },
    {
      "cell_type": "code",
      "metadata": {
        "colab": {
          "base_uri": "https://localhost:8080/"
        },
        "id": "PFcZHHOYBfN_",
        "outputId": "d6fda76b-ddce-4317-d96c-03979f604856"
      },
      "source": [
        "print(DataTraining)\n",
        "len(DataTraining)"
      ],
      "execution_count": 98,
      "outputs": [
        {
          "output_type": "stream",
          "text": [
            "[[5.1 3.5 1.4 0.2 0. ]\n",
            " [4.9 3.  1.4 0.2 0. ]\n",
            " [4.7 3.2 1.3 0.2 0. ]\n",
            " [4.6 3.1 1.5 0.2 0. ]\n",
            " [5.  3.6 1.4 0.2 0. ]\n",
            " [5.4 3.9 1.7 0.4 0. ]\n",
            " [4.6 3.4 1.4 0.3 0. ]\n",
            " [5.  3.4 1.5 0.2 0. ]\n",
            " [4.4 2.9 1.4 0.2 0. ]\n",
            " [4.9 3.1 1.5 0.1 0. ]\n",
            " [5.4 3.7 1.5 0.2 0. ]\n",
            " [4.8 3.4 1.6 0.2 0. ]\n",
            " [4.8 3.  1.4 0.1 0. ]\n",
            " [4.3 3.  1.1 0.1 0. ]\n",
            " [5.8 4.  1.2 0.2 0. ]\n",
            " [5.7 4.4 1.5 0.4 0. ]\n",
            " [5.4 3.9 1.3 0.4 0. ]\n",
            " [5.1 3.5 1.4 0.3 0. ]\n",
            " [5.7 3.8 1.7 0.3 0. ]\n",
            " [5.1 3.8 1.5 0.3 0. ]\n",
            " [5.4 3.4 1.7 0.2 0. ]\n",
            " [5.1 3.7 1.5 0.4 0. ]\n",
            " [4.6 3.6 1.  0.2 0. ]\n",
            " [5.1 3.3 1.7 0.5 0. ]\n",
            " [4.8 3.4 1.9 0.2 0. ]\n",
            " [5.  3.  1.6 0.2 0. ]\n",
            " [5.  3.4 1.6 0.4 0. ]\n",
            " [5.2 3.5 1.5 0.2 0. ]\n",
            " [5.2 3.4 1.4 0.2 0. ]\n",
            " [4.7 3.2 1.6 0.2 0. ]\n",
            " [4.8 3.1 1.6 0.2 0. ]\n",
            " [5.4 3.4 1.5 0.4 0. ]\n",
            " [5.2 4.1 1.5 0.1 0. ]\n",
            " [5.5 4.2 1.4 0.2 0. ]\n",
            " [4.9 3.1 1.5 0.1 0. ]\n",
            " [5.  3.2 1.2 0.2 0. ]\n",
            " [5.5 3.5 1.3 0.2 0. ]\n",
            " [4.9 3.1 1.5 0.1 0. ]\n",
            " [4.4 3.  1.3 0.2 0. ]\n",
            " [5.1 3.4 1.5 0.2 0. ]\n",
            " [7.  3.2 4.7 1.4 1. ]\n",
            " [6.4 3.2 4.5 1.5 1. ]\n",
            " [6.9 3.1 4.9 1.5 1. ]\n",
            " [5.5 2.3 4.  1.3 1. ]\n",
            " [6.5 2.8 4.6 1.5 1. ]\n",
            " [5.7 2.8 4.5 1.3 1. ]\n",
            " [6.3 3.3 4.7 1.6 1. ]\n",
            " [4.9 2.4 3.3 1.  1. ]\n",
            " [6.6 2.9 4.6 1.3 1. ]\n",
            " [5.2 2.7 3.9 1.4 1. ]\n",
            " [5.  2.  3.5 1.  1. ]\n",
            " [5.9 3.  4.2 1.5 1. ]\n",
            " [6.  2.2 4.  1.  1. ]\n",
            " [6.1 2.9 4.7 1.4 1. ]\n",
            " [5.6 2.9 3.6 1.3 1. ]\n",
            " [6.7 3.1 4.4 1.4 1. ]\n",
            " [5.6 3.  4.5 1.5 1. ]\n",
            " [5.8 2.7 4.1 1.  1. ]\n",
            " [6.2 2.2 4.5 1.5 1. ]\n",
            " [5.6 2.5 3.9 1.1 1. ]\n",
            " [5.9 3.2 4.8 1.8 1. ]\n",
            " [6.1 2.8 4.  1.3 1. ]\n",
            " [6.3 2.5 4.9 1.5 1. ]\n",
            " [6.1 2.8 4.7 1.2 1. ]\n",
            " [6.4 2.9 4.3 1.3 1. ]\n",
            " [6.6 3.  4.4 1.4 1. ]\n",
            " [6.8 2.8 4.8 1.4 1. ]\n",
            " [6.7 3.  5.  1.7 1. ]\n",
            " [6.  2.9 4.5 1.5 1. ]\n",
            " [5.7 2.6 3.5 1.  1. ]\n",
            " [5.5 2.4 3.8 1.1 1. ]\n",
            " [5.5 2.4 3.7 1.  1. ]\n",
            " [5.8 2.7 3.9 1.2 1. ]\n",
            " [6.  2.7 5.1 1.6 1. ]\n",
            " [5.4 3.  4.5 1.5 1. ]\n",
            " [6.  3.4 4.5 1.6 1. ]\n",
            " [6.7 3.1 4.7 1.5 1. ]\n",
            " [6.3 2.3 4.4 1.3 1. ]\n",
            " [5.6 3.  4.1 1.3 1. ]\n",
            " [5.5 2.5 4.  1.3 1. ]]\n"
          ],
          "name": "stdout"
        },
        {
          "output_type": "execute_result",
          "data": {
            "text/plain": [
              "80"
            ]
          },
          "metadata": {
            "tags": []
          },
          "execution_count": 98
        }
      ]
    },
    {
      "cell_type": "code",
      "metadata": {
        "colab": {
          "base_uri": "https://localhost:8080/"
        },
        "id": "S4BLO-9DD4tm",
        "outputId": "b597b45d-c887-4c3a-87a6-cf9e760c5d72"
      },
      "source": [
        "inputTraining = DataTraining[:,0:4]\n",
        "inputTesting = DataTesting[:,0:4]\n",
        "labelTraining = DataTraining[:,4]\n",
        "labelTesting = DataTesting[:, 4]\n",
        "print(labelTraining)\n",
        "len(labelTraining)"
      ],
      "execution_count": 99,
      "outputs": [
        {
          "output_type": "stream",
          "text": [
            "[0. 0. 0. 0. 0. 0. 0. 0. 0. 0. 0. 0. 0. 0. 0. 0. 0. 0. 0. 0. 0. 0. 0. 0.\n",
            " 0. 0. 0. 0. 0. 0. 0. 0. 0. 0. 0. 0. 0. 0. 0. 0. 1. 1. 1. 1. 1. 1. 1. 1.\n",
            " 1. 1. 1. 1. 1. 1. 1. 1. 1. 1. 1. 1. 1. 1. 1. 1. 1. 1. 1. 1. 1. 1. 1. 1.\n",
            " 1. 1. 1. 1. 1. 1. 1. 1.]\n"
          ],
          "name": "stdout"
        },
        {
          "output_type": "execute_result",
          "data": {
            "text/plain": [
              "80"
            ]
          },
          "metadata": {
            "tags": []
          },
          "execution_count": 99
        }
      ]
    },
    {
      "cell_type": "code",
      "metadata": {
        "id": "udACqemKBnGG"
      },
      "source": [
        "from sklearn import tree\n",
        "model = tree.DecisionTreeClassifier()"
      ],
      "execution_count": 100,
      "outputs": []
    },
    {
      "cell_type": "code",
      "metadata": {
        "id": "KA-Zo4wKFai8"
      },
      "source": [
        "model = model.fit(inputTraining, labelTraining)"
      ],
      "execution_count": 101,
      "outputs": []
    },
    {
      "cell_type": "code",
      "metadata": {
        "colab": {
          "base_uri": "https://localhost:8080/"
        },
        "id": "NbACIuQbFo-h",
        "outputId": "7fcd6ea0-b7d9-4b7b-9175-05fc44898ad8"
      },
      "source": [
        "hasilPrediksi = model.predict(inputTesting)\n",
        "print(\"Label Sebenarnya\", labelTesting)\n",
        "print(\"Hsil Prediksi\", hasilPrediksi)"
      ],
      "execution_count": 102,
      "outputs": [
        {
          "output_type": "stream",
          "text": [
            "Label Sebenarnya [0. 0. 0. 0. 0. 0. 0. 0. 0. 0. 1. 1. 1. 1. 1. 1. 1. 1. 1. 1.]\n",
            "Hsil Prediksi [0. 0. 0. 0. 0. 0. 0. 0. 0. 0. 1. 1. 1. 1. 1. 1. 1. 1. 1. 1.]\n"
          ],
          "name": "stdout"
        }
      ]
    },
    {
      "cell_type": "code",
      "metadata": {
        "colab": {
          "base_uri": "https://localhost:8080/"
        },
        "id": "KimarRkhKjzV",
        "outputId": "51444dcc-d8be-49b4-fb07-f12fe2535a67"
      },
      "source": [
        "prediksiBenar = (hasilPrediksi == labelTesting).sum()\n",
        "prediksiSalah = (hasilPrediksi != labelTesting).sum()\n",
        "print(\"Prediksi Benar\", prediksiBenar,\"Data\")\n",
        "print(\"Prediksi Salah\", prediksiSalah,\"Data\")\n",
        "print(\"Akurasi\", prediksiBenar/(prediksiBenar+prediksiSalah)*100, \"%\")"
      ],
      "execution_count": 104,
      "outputs": [
        {
          "output_type": "stream",
          "text": [
            "Prediksi Benar 20 Data\n",
            "Prediksi Salah 0 Data\n",
            "Akurasi 100.0 %\n"
          ],
          "name": "stdout"
        }
      ]
    }
  ]
}